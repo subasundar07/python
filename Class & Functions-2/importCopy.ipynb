{
 "cells": [
  {
   "cell_type": "code",
   "execution_count": 1,
   "id": "53ed7c05-860e-4f32-a4c5-44374ab07920",
   "metadata": {},
   "outputs": [],
   "source": [
    "from Multifunctions import Calculation\n"
   ]
  },
  {
   "cell_type": "code",
   "execution_count": 3,
   "id": "96908f95-1a56-40e9-812c-81aa83e3820b",
   "metadata": {},
   "outputs": [
    {
     "name": "stdout",
     "output_type": "stream",
     "text": [
      "[10, 20, 14, 55, 43, 87, 76]\n",
      "Number of item in the List2: 7\n"
     ]
    }
   ],
   "source": [
    "Calculation.Lists()"
   ]
  },
  {
   "cell_type": "code",
   "execution_count": null,
   "id": "50b512d3-c59b-49cc-b500-47558f22bf6e",
   "metadata": {},
   "outputs": [],
   "source": []
  }
 ],
 "metadata": {
  "kernelspec": {
   "display_name": "Python [conda env:base] *",
   "language": "python",
   "name": "conda-base-py"
  },
  "language_info": {
   "codemirror_mode": {
    "name": "ipython",
    "version": 3
   },
   "file_extension": ".py",
   "mimetype": "text/x-python",
   "name": "python",
   "nbconvert_exporter": "python",
   "pygments_lexer": "ipython3",
   "version": "3.12.7"
  }
 },
 "nbformat": 4,
 "nbformat_minor": 5
}
