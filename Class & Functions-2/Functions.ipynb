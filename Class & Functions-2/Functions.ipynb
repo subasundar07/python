{
 "cells": [
  {
   "cell_type": "code",
   "execution_count": 1,
   "id": "7f762c3c-c53f-43e9-9cb8-d55c36d339e7",
   "metadata": {},
   "outputs": [],
   "source": [
    "def Addition (a,b):\n",
    "    Addition=a+b\n",
    "    return Addition"
   ]
  },
  {
   "cell_type": "code",
   "execution_count": 2,
   "id": "10ac4234-d2ea-44b3-8580-6268ab0ebf65",
   "metadata": {},
   "outputs": [],
   "source": [
    "def Addition (a,b):\n",
    "    Addition=a+b\n",
    "    return Addition"
   ]
  },
  {
   "cell_type": "code",
   "execution_count": 3,
   "id": "65845627-ebd6-428f-b51b-20fc920c453d",
   "metadata": {},
   "outputs": [],
   "source": [
    "def Addition (a,b):\n",
    "    Addition=a+b\n",
    "    return Addition"
   ]
  },
  {
   "cell_type": "code",
   "execution_count": 4,
   "id": "de3cfa73-d3a4-49fb-a9cd-d96fef336499",
   "metadata": {},
   "outputs": [
    {
     "name": "stdin",
     "output_type": "stream",
     "text": [
      "Enter the age 26\n"
     ]
    },
    {
     "name": "stdout",
     "output_type": "stream",
     "text": [
      "Adult\n"
     ]
    }
   ],
   "source": [
    "#Lists=[17,34,58]\n",
    "ageInput=int(input(\"Enter the age\"))\n",
    "def ageCategory(age):\n",
    "    \n",
    "        if(age<18):\n",
    "            print(\"Child\")\n",
    "        elif(age<35):\n",
    "            print(\"Adult\")\n",
    "        elif(age<59):\n",
    "            print(\"Citizen\")\n",
    "        else:\n",
    "            print(\"Senior Citizen\")\n",
    "ageCategory(ageInput)"
   ]
  },
  {
   "cell_type": "code",
   "execution_count": 5,
   "id": "76a52d8c-f2a9-4bee-9820-b1e25e765b4a",
   "metadata": {},
   "outputs": [
    {
     "name": "stdout",
     "output_type": "stream",
     "text": [
      "Child\n",
      "Adult\n",
      "Citizen\n",
      "Senior Citizen\n"
     ]
    }
   ],
   "source": [
    "Lists=[17,34,58,78]\n",
    "def ageCategory1():\n",
    "    for age in Lists:\n",
    "        if age < 18:\n",
    "            print(\"Child\")\n",
    "        elif age < 35:\n",
    "            print(\"Adult\")\n",
    "        elif age < 59:\n",
    "            print(\"Citizen\")\n",
    "        else:\n",
    "            print(\"Senior Citizen\")\n",
    "ageCategory1()"
   ]
  },
  {
   "cell_type": "code",
   "execution_count": 6,
   "id": "64c4e08f-fb9c-413f-892c-06a3aac7b171",
   "metadata": {},
   "outputs": [
    {
     "name": "stdin",
     "output_type": "stream",
     "text": [
      "Enter the age: 32\n"
     ]
    },
    {
     "ename": "TypeError",
     "evalue": "ageCategory() missing 1 required positional argument: 'age'",
     "output_type": "error",
     "traceback": [
      "\u001b[1;31m---------------------------------------------------------------------------\u001b[0m",
      "\u001b[1;31mTypeError\u001b[0m                                 Traceback (most recent call last)",
      "Cell \u001b[1;32mIn[6], line 2\u001b[0m\n\u001b[0;32m      1\u001b[0m age\u001b[38;5;241m=\u001b[39m\u001b[38;5;28mint\u001b[39m(\u001b[38;5;28minput\u001b[39m(\u001b[38;5;124m\"\u001b[39m\u001b[38;5;124mEnter the age:\u001b[39m\u001b[38;5;124m\"\u001b[39m))\n\u001b[1;32m----> 2\u001b[0m age\u001b[38;5;241m=\u001b[39mageCategory()\n",
      "\u001b[1;31mTypeError\u001b[0m: ageCategory() missing 1 required positional argument: 'age'"
     ]
    }
   ],
   "source": [
    "age=int(input(\"Enter the age:\"))\n",
    "age=ageCategory()"
   ]
  },
  {
   "cell_type": "code",
   "execution_count": 10,
   "id": "f1adaccf-3aec-4e26-a6d0-322bf57b8ac3",
   "metadata": {},
   "outputs": [],
   "source": [
    "def ageCategory():\n",
    "    if(age<18):\n",
    "        print(\"Child\")\n",
    "        cate=\"Child\"\n",
    "    elif(age<26):\n",
    "        print(\"Adult\")\n",
    "        cate=\"Child\"\n",
    "    elif(age<45):\n",
    "        print(\"Citizen\")\n",
    "        cate=\"Citizen\"\n",
    "    else:\n",
    "        print(\"Senior Citizen\")\n",
    "        cate=\"Senior Citizen\"\n",
    "    return cate\n",
    "        "
   ]
  },
  {
   "cell_type": "code",
   "execution_count": 12,
   "id": "e4c1fb3c-d8ed-4bb3-ad89-10897c19d286",
   "metadata": {},
   "outputs": [
    {
     "name": "stdin",
     "output_type": "stream",
     "text": [
      "Enter the age: 52\n"
     ]
    },
    {
     "name": "stdout",
     "output_type": "stream",
     "text": [
      "Senior Citizen\n"
     ]
    }
   ],
   "source": [
    "age=int(input(\"Enter the age:\"))\n",
    "cate=ageCategory()"
   ]
  },
  {
   "cell_type": "code",
   "execution_count": 16,
   "id": "32f61732-7da7-42db-9498-014c1852324e",
   "metadata": {},
   "outputs": [
    {
     "name": "stdin",
     "output_type": "stream",
     "text": [
      "Enter the Number: 25\n"
     ]
    }
   ],
   "source": [
    "num=int(input(\"Enter the Number:\"))"
   ]
  },
  {
   "cell_type": "code",
   "execution_count": 18,
   "id": "2c9832cb-5860-48be-a506-7d2df4c68376",
   "metadata": {},
   "outputs": [],
   "source": [
    "def addEven():\n",
    "    if(num%2==0):\n",
    "        print(\"EVEN\")\n",
    "        out=\"EVEN\"\n",
    "    else:\n",
    "        print(\"ODD\")\n",
    "        out=\"ODD\"\n",
    "    return out\n",
    "\n",
    "    "
   ]
  },
  {
   "cell_type": "code",
   "execution_count": 20,
   "id": "9d319650-bcb1-4758-a2d0-0a357dd447ec",
   "metadata": {},
   "outputs": [
    {
     "name": "stdout",
     "output_type": "stream",
     "text": [
      "ODD\n"
     ]
    }
   ],
   "source": [
    "out=addEven()"
   ]
  },
  {
   "cell_type": "code",
   "execution_count": 22,
   "id": "645e71a7-d9b1-453e-add9-7ab9475b0106",
   "metadata": {},
   "outputs": [
    {
     "name": "stdout",
     "output_type": "stream",
     "text": [
      "GIVEN NUM IS ODD\n"
     ]
    }
   ],
   "source": [
    "\n",
    "if(out==\"ODD\"):\n",
    "    print(\"GIVEN NUM IS ODD\")\n",
    "else:\n",
    "    print(\"GIVEN NUM IS EVEN\")"
   ]
  },
  {
   "cell_type": "code",
   "execution_count": 24,
   "id": "793d21e7-755d-49f8-8697-061496eddc93",
   "metadata": {},
   "outputs": [],
   "source": [
    "def addition(a,b):\n",
    "    addition=a+b\n",
    "\n",
    "    return addition"
   ]
  },
  {
   "cell_type": "code",
   "execution_count": 26,
   "id": "96747d41-470e-4350-86e4-e49d360b83ce",
   "metadata": {},
   "outputs": [
    {
     "data": {
      "text/plain": [
       "13"
      ]
     },
     "execution_count": 26,
     "metadata": {},
     "output_type": "execute_result"
    }
   ],
   "source": [
    "addition(6,7)"
   ]
  },
  {
   "cell_type": "markdown",
   "id": "862e06d1-045c-476d-b21d-8ec65d8b5d80",
   "metadata": {},
   "source": [
    "###### "
   ]
  },
  {
   "cell_type": "code",
   "execution_count": null,
   "id": "829b09d7-c40a-4fc3-8541-e045e7253aeb",
   "metadata": {},
   "outputs": [],
   "source": []
  }
 ],
 "metadata": {
  "kernelspec": {
   "display_name": "Python [conda env:base] *",
   "language": "python",
   "name": "conda-base-py"
  },
  "language_info": {
   "codemirror_mode": {
    "name": "ipython",
    "version": 3
   },
   "file_extension": ".py",
   "mimetype": "text/x-python",
   "name": "python",
   "nbconvert_exporter": "python",
   "pygments_lexer": "ipython3",
   "version": "3.12.7"
  }
 },
 "nbformat": 4,
 "nbformat_minor": 5
}
