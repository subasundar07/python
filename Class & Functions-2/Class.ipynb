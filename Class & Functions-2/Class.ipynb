{
 "cells": [
  {
   "cell_type": "code",
   "execution_count": 1,
   "id": "d0791686-c5dd-4288-8030-a668469d3321",
   "metadata": {},
   "outputs": [
    {
     "name": "stdin",
     "output_type": "stream",
     "text": [
      "Enter the n1: 52\n",
      "Enter the n2: 3\n"
     ]
    }
   ],
   "source": [
    "class Calculation():\n",
    "    def addition():\n",
    "        add=a+b\n",
    "        return add\n",
    "a=int(input(\"Enter the n1:\"))\n",
    "b=int(input(\"Enter the n2:\"))"
   ]
  },
  {
   "cell_type": "code",
   "execution_count": 8,
   "id": "babc6f69-9a4a-49af-ad9f-750b1669a49b",
   "metadata": {},
   "outputs": [
    {
     "name": "stdout",
     "output_type": "stream",
     "text": [
      "55\n"
     ]
    }
   ],
   "source": [
    "result=Calculation.addition()\n",
    "print(result)\n"
   ]
  },
  {
   "cell_type": "code",
   "execution_count": 12,
   "id": "dde68575-8ea8-4ec5-a9ff-8d7621beb020",
   "metadata": {},
   "outputs": [],
   "source": [
    "class Calculation():\n",
    "    def addEven():\n",
    "        num=int(input(\"Enter the number:\"))\n",
    "        if(num%2==0):\n",
    "            print(\"EVEN\")\n",
    "            out=\"EVEN\"\n",
    "        else:\n",
    "            print(\"ODD\")\n",
    "            out=\"ODD\"\n",
    "        return out\n",
    "        \n",
    "    def ageCategory(): \n",
    "        age=int(input(\"Enter the age:\"))\n",
    "        if(age<18):\n",
    "            print(\"Child\")\n",
    "            cate=\"Child\"\n",
    "        elif(age<26):\n",
    "            print(\"Adult\")\n",
    "            cate=\"Child\"\n",
    "        elif(age<45):\n",
    "            print(\"Citizen\")\n",
    "            cate=\"Citizen\"\n",
    "        else:\n",
    "            print(\"Senior Citizen\")\n",
    "            cate=\"Senior Citizen\"\n",
    "        return cate\n",
    "        \n",
    "    def BMI():\n",
    "        BMI=int(input(\"Enter the BMI:\"))\n",
    "        if(BMI<19):\n",
    "            print(\"Underweight\")\n",
    "            return (\"Underweight\")\n",
    "        elif(BMI<25):\n",
    "            print(\"Normal Weight\")\n",
    "            return (\"Normal Weight\")\n",
    "        else:\n",
    "            print(\"Very Overweight\")\n",
    "            return (\"Very Overweight\")\n",
    "    "
   ]
  },
  {
   "cell_type": "code",
   "execution_count": 16,
   "id": "9aadf443-7f4d-4c79-b90a-811df1b76bd9",
   "metadata": {},
   "outputs": [
    {
     "name": "stdin",
     "output_type": "stream",
     "text": [
      "Enter the number: 2\n"
     ]
    },
    {
     "name": "stdout",
     "output_type": "stream",
     "text": [
      "EVEN\n"
     ]
    }
   ],
   "source": [
    "result1=Calculation.addEven()\n",
    "\n"
   ]
  },
  {
   "cell_type": "code",
   "execution_count": 18,
   "id": "12247e17-1c98-4be0-9dd1-27b728929aaf",
   "metadata": {},
   "outputs": [
    {
     "name": "stdin",
     "output_type": "stream",
     "text": [
      "Enter the age: 26\n"
     ]
    },
    {
     "name": "stdout",
     "output_type": "stream",
     "text": [
      "Citizen\n"
     ]
    }
   ],
   "source": [
    "## result2=Calculation.ageCategory()\n",
    "\n",
    "\n"
   ]
  },
  {
   "cell_type": "code",
   "execution_count": 20,
   "id": "8edda898-0b4b-4ef9-a4c8-711d454aa408",
   "metadata": {},
   "outputs": [
    {
     "name": "stdin",
     "output_type": "stream",
     "text": [
      "Enter the BMI: 56\n"
     ]
    },
    {
     "name": "stdout",
     "output_type": "stream",
     "text": [
      "Very Overweight\n"
     ]
    }
   ],
   "source": [
    "result3=Calculation.BMI()"
   ]
  },
  {
   "cell_type": "code",
   "execution_count": null,
   "id": "073b894b-b36d-4d75-a5d0-2c41039c6fb8",
   "metadata": {},
   "outputs": [],
   "source": []
  }
 ],
 "metadata": {
  "kernelspec": {
   "display_name": "Python [conda env:base] *",
   "language": "python",
   "name": "conda-base-py"
  },
  "language_info": {
   "codemirror_mode": {
    "name": "ipython",
    "version": 3
   },
   "file_extension": ".py",
   "mimetype": "text/x-python",
   "name": "python",
   "nbconvert_exporter": "python",
   "pygments_lexer": "ipython3",
   "version": "3.12.7"
  }
 },
 "nbformat": 4,
 "nbformat_minor": 5
}
