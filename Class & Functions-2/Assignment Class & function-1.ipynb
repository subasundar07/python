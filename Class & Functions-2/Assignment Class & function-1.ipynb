{
 "cells": [
  {
   "cell_type": "code",
   "execution_count": 1,
   "id": "da9fb780-0d26-4394-a9be-6fc0e5547e16",
   "metadata": {},
   "outputs": [],
   "source": [
    "# Create a function that checks whether the given number is Odd or Even\n"
   ]
  },
  {
   "cell_type": "code",
   "execution_count": 2,
   "id": "55dc5a79-654b-4b55-b8ee-f1ccf95daffa",
   "metadata": {},
   "outputs": [
    {
     "name": "stdin",
     "output_type": "stream",
     "text": [
      "Enter the Num: 6\n"
     ]
    },
    {
     "name": "stdout",
     "output_type": "stream",
     "text": [
      "6 is Even number\n"
     ]
    }
   ],
   "source": [
    "def oddEven():\n",
    "    if(num%2==0):\n",
    "        print(num,\"is Even number\")\n",
    "        n=num,\"is Even number\"\n",
    "    else:\n",
    "        print(num,\"is Odd number\")\n",
    "        n=num,\"is odd number\"\n",
    "    return n\n",
    "num=int(input(\"Enter the Num:\"))\n",
    "n=oddEven()  \n"
   ]
  },
  {
   "cell_type": "code",
   "execution_count": 3,
   "id": "65989efe-d14c-49bc-b2ab-0dccb74b686c",
   "metadata": {},
   "outputs": [],
   "source": [
    " # Create a function that tells elegibility of marriage for male and female according to their age limit like 21 for male and 18 for female\n"
   ]
  },
  {
   "cell_type": "code",
   "execution_count": 4,
   "id": "879e86c4-02ed-4bb9-b8e9-2d3fcb7667a5",
   "metadata": {},
   "outputs": [
    {
     "name": "stdin",
     "output_type": "stream",
     "text": [
      "Your AGE: 53\n",
      "Your Gender: Female\n"
     ]
    },
    {
     "name": "stdout",
     "output_type": "stream",
     "text": [
      "ELIGIBLE\n"
     ]
    }
   ],
   "source": [
    "class mAge():\n",
    "    def marriageAge():\n",
    "        if(Gender==\"Female\"):        \n",
    "            if(age>=18):    \n",
    "                print(\"ELIGIBLE\")\n",
    "            else:\n",
    "                print(\"NOT ELIGIBLE\")\n",
    "            \n",
    "        elif(Gender==\"male\"):\n",
    "            if(age>=21):\n",
    "                print(\"ELIGIBLE\")\n",
    "            else:\n",
    "               print(\"NOT ELIGIBLE\")\n",
    "        else:\n",
    "            print(\"Invaild Gender\")\n",
    "            \n",
    "age=int(input(\"Your AGE:\"))\n",
    "Gender=input(\"Your Gender:\")\n",
    "    \n",
    "mAge.marriageAge()"
   ]
  },
  {
   "cell_type": "code",
   "execution_count": 5,
   "id": "4aa9d922-ff2e-421a-a14e-c3b218c716e8",
   "metadata": {},
   "outputs": [],
   "source": [
    "# Create a class and function, and list out the items in the list"
   ]
  },
  {
   "cell_type": "code",
   "execution_count": 6,
   "id": "6de67282-ed3c-4e83-a43c-ecfe0d47825b",
   "metadata": {},
   "outputs": [
    {
     "name": "stdout",
     "output_type": "stream",
     "text": [
      "Sub-fields in AI are:\n",
      "Machine Learning\n",
      "Neural Networks\n",
      "Vision\n",
      "Robotics\n",
      "Speech Processing\n",
      "Natural Language Processing\n"
     ]
    }
   ],
   "source": [
    "class AiFileds:\n",
    "    def SubfieldsInAI_Subfields(self):\n",
    "        print(\"Sub-fields in AI are:\")\n",
    "        Fildes=[\n",
    "            \"Machine Learning\",\n",
    "            \"Neural Networks\",\n",
    "            \"Vision\",\n",
    "            \"Robotics\",\n",
    "            \"Speech Processing\",\n",
    "            \"Natural Language Processing\"\n",
    "        ]\n",
    "        for SubFiled in Fildes:\n",
    "            print(SubFiled)\n",
    "Ai_Filed=AiFileds()\n",
    "Ai_Filed.SubfieldsInAI_Subfields()"
   ]
  },
  {
   "cell_type": "code",
   "execution_count": 7,
   "id": "8a41f6ab-a52b-46fb-ba15-64ee4b1a5e93",
   "metadata": {},
   "outputs": [],
   "source": [
    "# calculate the percentage of your 10th mark\n"
   ]
  },
  {
   "cell_type": "code",
   "execution_count": 8,
   "id": "58f6149f-6124-4bf0-a93a-d60584bf7a03",
   "metadata": {},
   "outputs": [
    {
     "name": "stdin",
     "output_type": "stream",
     "text": [
      "Subject1= 85\n",
      "Subject2= 96\n",
      "Subject3= 75\n",
      "Subject4= 94\n",
      "Subject5= 85\n"
     ]
    },
    {
     "name": "stdout",
     "output_type": "stream",
     "text": [
      "Total: 435\n",
      "percentage: 87.0\n"
     ]
    }
   ],
   "source": [
    "Sub1=int(input(\"Subject1=\"))\n",
    "Sub2=int(input(\"Subject2=\"))\n",
    "Sub3=int(input(\"Subject3=\"))\n",
    "Sub4=int(input(\"Subject4=\"))\n",
    "Sub5=int(input(\"Subject5=\"))\n",
    "class Sub_Marks():\n",
    "    \n",
    "    def Marks():\n",
    "        total=Sub1+Sub2+Sub3+Sub4+Sub5\n",
    "        percentage=(total/500)*100\n",
    "        print(\"Total:\",total)\n",
    "        print(\"percentage:\",percentage)\n",
    "Sub_Marks.Marks()\n",
    "\n"
   ]
  },
  {
   "cell_type": "code",
   "execution_count": 9,
   "id": "b5bf5b83-91dc-49b6-b801-f34109a1b0a8",
   "metadata": {},
   "outputs": [],
   "source": [
    "#print area and perimeter of triangle using class and functions"
   ]
  },
  {
   "cell_type": "code",
   "execution_count": 10,
   "id": "9e33ca24-d7df-4d8b-8319-fe9413f33e2b",
   "metadata": {},
   "outputs": [
    {
     "name": "stdin",
     "output_type": "stream",
     "text": [
      "Height: 165\n",
      "Breath: 46\n"
     ]
    },
    {
     "name": "stdout",
     "output_type": "stream",
     "text": [
      "Area of Triangle: 3795.0\n"
     ]
    },
    {
     "name": "stdin",
     "output_type": "stream",
     "text": [
      "Height1: 162\n",
      "Height2: 159\n",
      "Breath: 36\n"
     ]
    },
    {
     "name": "stdout",
     "output_type": "stream",
     "text": [
      "Perimeter of Triangle: 357\n"
     ]
    },
    {
     "data": {
      "text/plain": [
       "0"
      ]
     },
     "execution_count": 10,
     "metadata": {},
     "output_type": "execute_result"
    }
   ],
   "source": [
    "class areaPerimeter():\n",
    "    def triangle():\n",
    "        Heigth=int(input(\"Height:\"))\n",
    "        Breath=int(input(\"Breath:\"))\n",
    "        areaFormula=(Heigth*Breath)/2\n",
    "        print(\"Area of Triangle:\",areaFormula)\n",
    "        Height1=int(input(\"Height1:\"))\n",
    "        Height2=int(input(\"Height2:\"))\n",
    "        Breath=int(input(\"Breath:\"))\n",
    "        Perimeterformula=(Height1+Height2+Breath)\n",
    "        print(\"Perimeter of Triangle:\",Perimeterformula)\n",
    "        return 0\n",
    "areaPerimeter.triangle()"
   ]
  },
  {
   "cell_type": "markdown",
   "id": "81ce852f-89a0-4303-9042-580af2b0cedf",
   "metadata": {
    "jp-MarkdownHeadingCollapsed": true
   },
   "source": [
    "\n",
    "Breadth:34\n",
    "Area formula: (Height*Breadth)/2\n",
    "Area of Triangle: 544.0\n",
    "Height1:2\n",
    "Height2:4\n",
    "Breadth:4\n",
    "Perimeter formula: Height1+Height2+Breadth\n",
    "Perimeter of Triangle: 10"
   ]
  }
 ],
 "metadata": {
  "kernelspec": {
   "display_name": "Python [conda env:base] *",
   "language": "python",
   "name": "conda-base-py"
  },
  "language_info": {
   "codemirror_mode": {
    "name": "ipython",
    "version": 3
   },
   "file_extension": ".py",
   "mimetype": "text/x-python",
   "name": "python",
   "nbconvert_exporter": "python",
   "pygments_lexer": "ipython3",
   "version": "3.12.7"
  }
 },
 "nbformat": 4,
 "nbformat_minor": 5
}
