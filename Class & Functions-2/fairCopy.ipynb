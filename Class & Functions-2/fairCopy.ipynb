{
 "cells": [
  {
   "cell_type": "code",
   "execution_count": 1,
   "id": "55be54d8-404e-455b-b4ff-63b3e04dbf87",
   "metadata": {},
   "outputs": [
    {
     "name": "stdout",
     "output_type": "stream",
     "text": [
      "['a', 'b', 'c']\n"
     ]
    }
   ],
   "source": [
    "#1.How do you get a list of all the keys in a dictionary\n",
    "dictionary={\"a\":1,\"b\":2,\"c\":3}\n",
    "keys=list(dictionary.keys())\n",
    "print(keys)"
   ]
  },
  {
   "cell_type": "code",
   "execution_count": 3,
   "id": "0838cf77-46d2-402e-bdab-533977b31881",
   "metadata": {},
   "outputs": [
    {
     "name": "stdout",
     "output_type": "stream",
     "text": [
      "<class 'int'>\n"
     ]
    }
   ],
   "source": [
    "#4.How to check the data type of variable in python\n",
    "variable=23\n",
    "Variable_integer=type(variable)\n",
    "print(Variable_integer)"
   ]
  },
  {
   "cell_type": "code",
   "execution_count": 5,
   "id": "fff23975-14f8-45d8-bc81-755924c637ba",
   "metadata": {},
   "outputs": [
    {
     "name": "stdout",
     "output_type": "stream",
     "text": [
      "123\n"
     ]
    }
   ],
   "source": [
    "data_types_String=\"123\"\n",
    "data_types_integer=int(data_types_String)\n",
    "print(data_types_integer)"
   ]
  },
  {
   "cell_type": "code",
   "execution_count": null,
   "id": "6423e52a-43b1-4bfd-8532-45ae01cdcc95",
   "metadata": {},
   "outputs": [],
   "source": []
  }
 ],
 "metadata": {
  "kernelspec": {
   "display_name": "Python [conda env:base] *",
   "language": "python",
   "name": "conda-base-py"
  },
  "language_info": {
   "codemirror_mode": {
    "name": "ipython",
    "version": 3
   },
   "file_extension": ".py",
   "mimetype": "text/x-python",
   "name": "python",
   "nbconvert_exporter": "python",
   "pygments_lexer": "ipython3",
   "version": "3.12.7"
  }
 },
 "nbformat": 4,
 "nbformat_minor": 5
}
