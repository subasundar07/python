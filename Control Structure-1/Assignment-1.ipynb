{
 "cells": [
  {
   "cell_type": "code",
   "execution_count": 1,
   "id": "0b4c4c19-1139-4414-93a8-1254c9a53eff",
   "metadata": {},
   "outputs": [
    {
     "name": "stdout",
     "output_type": "stream",
     "text": [
      "HOPE AI\n"
     ]
    }
   ],
   "source": [
    "print(\"HOPE AI\")"
   ]
  },
  {
   "cell_type": "code",
   "execution_count": 2,
   "id": "5d5ebe40-cf82-4959-8caa-59565c2a558e",
   "metadata": {},
   "outputs": [],
   "source": [
    "# Buy input"
   ]
  },
  {
   "cell_type": "code",
   "execution_count": 3,
   "id": "a2ca9af7-bb1a-4ac1-a972-7635d8b25459",
   "metadata": {},
   "outputs": [
    {
     "name": "stdin",
     "output_type": "stream",
     "text": [
      "Enter your institute name? : HOPEAI\n"
     ]
    }
   ],
   "source": [
    "Ques=(input(\"Enter your institute name? :\"))\n",
    "         "
   ]
  },
  {
   "cell_type": "code",
   "execution_count": 4,
   "id": "07899b61-ed62-4c42-8ca1-36ae405c730e",
   "metadata": {},
   "outputs": [],
   "source": [
    "#Buy inputs\n"
   ]
  },
  {
   "cell_type": "code",
   "execution_count": 5,
   "id": "81aea27f-f0d5-4102-b179-37d25834b640",
   "metadata": {},
   "outputs": [
    {
     "name": "stdin",
     "output_type": "stream",
     "text": [
      "Enter your name: SUBA\n",
      "Enter your age: 23\n",
      "Enter your school name: KRTA\n",
      "Enter your drgree: B.E\n"
     ]
    }
   ],
   "source": [
    "A=input(\"Enter your name:\")\n",
    "B=int(input(\"Enter your age:\"))\n",
    "C=input(\"Enter your school name:\")\n",
    "D=input(\"Enter your drgree:\")"
   ]
  },
  {
   "cell_type": "code",
   "execution_count": 6,
   "id": "9135e77c-1f11-434f-bd44-683c91eb7415",
   "metadata": {},
   "outputs": [],
   "source": [
    "#Addition\n"
   ]
  },
  {
   "cell_type": "code",
   "execution_count": 7,
   "id": "852e728d-2787-45e3-80db-5bf77d4e1d2e",
   "metadata": {},
   "outputs": [
    {
     "name": "stdin",
     "output_type": "stream",
     "text": [
      "a=  23\n",
      "b=  52\n"
     ]
    },
    {
     "name": "stdout",
     "output_type": "stream",
     "text": [
      "Add = 75\n"
     ]
    }
   ],
   "source": [
    "a=int(input(\"a= \"))\n",
    "b=int(input(\"b= \"))\n",
    "c=a+b\n",
    "print(\"Add =\",c)\n"
   ]
  },
  {
   "cell_type": "code",
   "execution_count": 8,
   "id": "8fb498ff-dad1-45f8-8cc9-29deb782880e",
   "metadata": {},
   "outputs": [],
   "source": [
    "#Subtraction\n"
   ]
  },
  {
   "cell_type": "code",
   "execution_count": 9,
   "id": "76e0819d-a7fb-4276-8a87-858b5a1ced95",
   "metadata": {},
   "outputs": [
    {
     "name": "stdin",
     "output_type": "stream",
     "text": [
      "a=  62\n",
      "b=  52\n"
     ]
    },
    {
     "name": "stdout",
     "output_type": "stream",
     "text": [
      "Sub = 10\n"
     ]
    }
   ],
   "source": [
    "a=int(input(\"a= \"))\n",
    "b=int(input(\"b= \"))\n",
    "c=a-b\n",
    "print(\"Sub =\",c)\n"
   ]
  },
  {
   "cell_type": "code",
   "execution_count": 10,
   "id": "03fd7fdc-4da3-4da9-bb9e-71e42047f103",
   "metadata": {},
   "outputs": [],
   "source": [
    "#Multiplication\n",
    "\n"
   ]
  },
  {
   "cell_type": "code",
   "execution_count": 11,
   "id": "1d09ac36-c308-4bca-924e-73413ceefd46",
   "metadata": {},
   "outputs": [
    {
     "name": "stdin",
     "output_type": "stream",
     "text": [
      "a=  26\n",
      "b=  85\n"
     ]
    },
    {
     "name": "stdout",
     "output_type": "stream",
     "text": [
      "Mul = 2210\n"
     ]
    }
   ],
   "source": [
    "a=int(input(\"a= \"))\n",
    "b=int(input(\"b= \"))\n",
    "c=a*b\n",
    "print(\"Mul =\",c)\n"
   ]
  },
  {
   "cell_type": "code",
   "execution_count": 12,
   "id": "7914bbd1-d527-4f4f-b064-85067e316048",
   "metadata": {},
   "outputs": [],
   "source": [
    "#Division"
   ]
  },
  {
   "cell_type": "code",
   "execution_count": 13,
   "id": "9a40898b-36ec-4a6c-ad4e-94fb2c505cd1",
   "metadata": {},
   "outputs": [
    {
     "name": "stdin",
     "output_type": "stream",
     "text": [
      "a=  45\n",
      "b=  85\n"
     ]
    },
    {
     "name": "stdout",
     "output_type": "stream",
     "text": [
      "Float Div = 0.5294117647058824\n"
     ]
    }
   ],
   "source": [
    "a=int(input(\"a= \"))\n",
    "b=int(input(\"b= \"))\n",
    "c=a/b\n",
    "print(\"Float Div =\",c)\n"
   ]
  },
  {
   "cell_type": "code",
   "execution_count": 14,
   "id": "19410978-7f95-457d-8f49-c3137e652b8d",
   "metadata": {},
   "outputs": [],
   "source": [
    "#Floor Division"
   ]
  },
  {
   "cell_type": "code",
   "execution_count": 15,
   "id": "cfaf7d0b-d74a-4566-842a-f8a167ac6a1c",
   "metadata": {},
   "outputs": [
    {
     "name": "stdin",
     "output_type": "stream",
     "text": [
      "a=  45\n",
      "b=  35\n"
     ]
    },
    {
     "name": "stdout",
     "output_type": "stream",
     "text": [
      "Floor Div = 1\n"
     ]
    }
   ],
   "source": [
    "a=int(input(\"a= \"))\n",
    "b=int(input(\"b= \"))\n",
    "c=a//b\n",
    "print(\"Floor Div =\",c)"
   ]
  },
  {
   "cell_type": "code",
   "execution_count": 16,
   "id": "4adbbcc0-e375-419b-a311-c8206755458a",
   "metadata": {},
   "outputs": [],
   "source": [
    "#Madulo"
   ]
  },
  {
   "cell_type": "code",
   "execution_count": 17,
   "id": "670b6fe9-3833-4e03-a6d8-46800981097e",
   "metadata": {},
   "outputs": [
    {
     "name": "stdin",
     "output_type": "stream",
     "text": [
      "a=  41\n",
      "b=  25\n"
     ]
    },
    {
     "name": "stdout",
     "output_type": "stream",
     "text": [
      "Madulo = 16\n"
     ]
    }
   ],
   "source": [
    "a=int(input(\"a= \"))\n",
    "b=int(input(\"b= \"))\n",
    "c=a%b\n",
    "print(\"Madulo =\",c)\n"
   ]
  },
  {
   "cell_type": "code",
   "execution_count": 18,
   "id": "de1043b3-bcf5-4531-8cb6-ccab4e3cca3f",
   "metadata": {},
   "outputs": [],
   "source": [
    "#Power"
   ]
  },
  {
   "cell_type": "code",
   "execution_count": 19,
   "id": "c00beedf-7745-409d-84a0-db0cad820048",
   "metadata": {},
   "outputs": [
    {
     "name": "stdin",
     "output_type": "stream",
     "text": [
      "a=  52\n",
      "b=  49\n"
     ]
    },
    {
     "name": "stdout",
     "output_type": "stream",
     "text": [
      "Power = 1213846689193589070140233234890629087757157219333010658528341529201325969042950848512\n"
     ]
    }
   ],
   "source": [
    "a=int(input(\"a= \"))\n",
    "b=int(input(\"b= \"))\n",
    "c=a**b\n",
    "print(\"Power =\",c)\n"
   ]
  },
  {
   "cell_type": "code",
   "execution_count": null,
   "id": "bf47b166-945a-4dd8-94f4-ae19f258ee16",
   "metadata": {},
   "outputs": [],
   "source": []
  },
  {
   "cell_type": "code",
   "execution_count": null,
   "id": "a429a702-6ebe-44af-b544-18e3311073ff",
   "metadata": {},
   "outputs": [],
   "source": []
  }
 ],
 "metadata": {
  "kernelspec": {
   "display_name": "Python [conda env:base] *",
   "language": "python",
   "name": "conda-base-py"
  },
  "language_info": {
   "codemirror_mode": {
    "name": "ipython",
    "version": 3
   },
   "file_extension": ".py",
   "mimetype": "text/x-python",
   "name": "python",
   "nbconvert_exporter": "python",
   "pygments_lexer": "ipython3",
   "version": "3.12.7"
  }
 },
 "nbformat": 4,
 "nbformat_minor": 5
}
