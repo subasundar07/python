{
 "cells": [
  {
   "cell_type": "code",
   "execution_count": 1,
   "id": "d13f0387-4d47-441d-8252-b6637293a26d",
   "metadata": {},
   "outputs": [],
   "source": [
    "#if"
   ]
  },
  {
   "cell_type": "code",
   "execution_count": 2,
   "id": "1865192c-cbee-4737-99e4-7f492a793286",
   "metadata": {},
   "outputs": [],
   "source": [
    "if():\n",
    "    print()\n"
   ]
  },
  {
   "cell_type": "code",
   "execution_count": 3,
   "id": "205ac6a6-ee65-4f3a-8167-09fd1719f712",
   "metadata": {},
   "outputs": [
    {
     "name": "stdout",
     "output_type": "stream",
     "text": [
      "Adult\n"
     ]
    }
   ],
   "source": [
    "age=18\n",
    "if(age==18):\n",
    "    print(\"Adult\")\n",
    "    "
   ]
  },
  {
   "cell_type": "code",
   "execution_count": 4,
   "id": "5996c50b-23f5-430e-a7a5-3e7b8dbf806b",
   "metadata": {},
   "outputs": [
    {
     "name": "stdout",
     "output_type": "stream",
     "text": [
      "Adult\n"
     ]
    }
   ],
   "source": [
    "age=18\n",
    "if(age==18):\n",
    "    print(\"Adult\")\n",
    "else:\n",
    "    print(\"No\")"
   ]
  },
  {
   "cell_type": "code",
   "execution_count": 5,
   "id": "ba20006f-7464-4b0d-8ab8-3d2a3c55304c",
   "metadata": {},
   "outputs": [
    {
     "name": "stdin",
     "output_type": "stream",
     "text": [
      "Enter the input number: 56\n"
     ]
    }
   ],
   "source": [
    "age=int(input(\"Enter the input number:\"))"
   ]
  },
  {
   "cell_type": "code",
   "execution_count": 6,
   "id": "97f732c2-af1a-492a-93e2-6ba8b87fa445",
   "metadata": {},
   "outputs": [
    {
     "name": "stdout",
     "output_type": "stream",
     "text": [
      "Senior Citizen\n"
     ]
    }
   ],
   "source": [
    "if(age<18):\n",
    "    print(\"Children\")\n",
    "elif(age<35):\n",
    "    print(\"adult\")\n",
    "elif(age<55):\n",
    "    print(\"Citizen\")\n",
    "else:\n",
    "    print(\"Senior Citizen\")"
   ]
  },
  {
   "cell_type": "code",
   "execution_count": 7,
   "id": "6767dbc0-e69c-4c75-b0d8-721f70430341",
   "metadata": {},
   "outputs": [],
   "source": [
    "#if AND elif for aingle input\n"
   ]
  },
  {
   "cell_type": "code",
   "execution_count": 8,
   "id": "aa2d40ed-e033-4df5-ae44-d50313d94e5f",
   "metadata": {},
   "outputs": [],
   "source": [
    "List=[18,35,55,90]"
   ]
  },
  {
   "cell_type": "code",
   "execution_count": 9,
   "id": "6b0e0a82-652e-40cc-acc1-4eb7ec63d3fc",
   "metadata": {},
   "outputs": [
    {
     "name": "stdout",
     "output_type": "stream",
     "text": [
      "adult\n",
      "Citizen\n",
      "Senior Citizen\n",
      "Senior Citizen\n"
     ]
    }
   ],
   "source": [
    "for age in List:\n",
    "    if(age<18):\n",
    "        print(\"Children\")\n",
    "    elif(age<35):\n",
    "        print(\"adult\")\n",
    "    elif(age<55):\n",
    "        print(\"Citizen\")\n",
    "    else:\n",
    "        print(\"Senior Citizen\")"
   ]
  },
  {
   "cell_type": "code",
   "execution_count": 10,
   "id": "2e224d59-b5b5-4ba3-931a-206e324c5141",
   "metadata": {},
   "outputs": [],
   "source": [
    "#odd or Even"
   ]
  },
  {
   "cell_type": "code",
   "execution_count": 11,
   "id": "6f1b96a9-9334-487d-9eb4-cb0243018f8a",
   "metadata": {},
   "outputs": [
    {
     "name": "stdin",
     "output_type": "stream",
     "text": [
      "Enter the Number n1 52\n"
     ]
    }
   ],
   "source": [
    "n1=int(input(\"Enter the Number n1\"))"
   ]
  },
  {
   "cell_type": "code",
   "execution_count": 15,
   "id": "1c71bab3-90f0-429b-aa1d-cec19778d78d",
   "metadata": {},
   "outputs": [
    {
     "name": "stdout",
     "output_type": "stream",
     "text": [
      "Even\n"
     ]
    }
   ],
   "source": [
    "if(n1%2==0):\n",
    "    print(\"Even\")\n",
    "else:\n",
    "    print(\"odd\")"
   ]
  }
 ],
 "metadata": {
  "kernelspec": {
   "display_name": "Python [conda env:base] *",
   "language": "python",
   "name": "conda-base-py"
  },
  "language_info": {
   "codemirror_mode": {
    "name": "ipython",
    "version": 3
   },
   "file_extension": ".py",
   "mimetype": "text/x-python",
   "name": "python",
   "nbconvert_exporter": "python",
   "pygments_lexer": "ipython3",
   "version": "3.12.7"
  }
 },
 "nbformat": 4,
 "nbformat_minor": 5
}
