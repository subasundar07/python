{
 "cells": [
  {
   "cell_type": "code",
   "execution_count": 1,
   "id": "b30ddf9a-db9c-4ebd-8973-1c30d4d6064e",
   "metadata": {},
   "outputs": [
    {
     "name": "stdout",
     "output_type": "stream",
     "text": [
      "Welcome to Assignment-1\n"
     ]
    }
   ],
   "source": [
    "print(\"Welcome to Assignment-1\")\n"
   ]
  },
  {
   "cell_type": "code",
   "execution_count": 2,
   "id": "25273add-66af-4cb7-911c-a6c2e742ffc4",
   "metadata": {},
   "outputs": [
    {
     "name": "stdout",
     "output_type": "stream",
     "text": [
      "40\n"
     ]
    }
   ],
   "source": [
    "Num1=10\n",
    "Num2=30\n",
    "Add=10+30\n",
    "print(Add)"
   ]
  },
  {
   "cell_type": "code",
   "execution_count": 3,
   "id": "f477931f-bfda-4a75-9278-35737a9c314e",
   "metadata": {},
   "outputs": [],
   "source": [
    "#Body Mass Index"
   ]
  },
  {
   "cell_type": "code",
   "execution_count": 4,
   "id": "a0bbd6bd-d7b1-497d-9fc6-3ae00b630e95",
   "metadata": {},
   "outputs": [
    {
     "name": "stdin",
     "output_type": "stream",
     "text": [
      "Enter the BMI Index: 52\n"
     ]
    }
   ],
   "source": [
    "BMI=int(input(\"Enter the BMI Index:\"))"
   ]
  },
  {
   "cell_type": "code",
   "execution_count": 5,
   "id": "6b519952-9746-4a06-bc3f-c6b4a628995b",
   "metadata": {},
   "outputs": [
    {
     "name": "stdout",
     "output_type": "stream",
     "text": [
      "Very Overweight\n"
     ]
    }
   ],
   "source": [
    "if(BMI<19):\n",
    "    print(\"Underweight\")\n",
    "elif(BMI<25):\n",
    "    print(\"Normal Weight\")\n",
    "else:\n",
    "    print(\"Very Overweight\")"
   ]
  },
  {
   "cell_type": "code",
   "execution_count": null,
   "id": "86809380-7fcc-4e67-8242-4f2960abf5cc",
   "metadata": {},
   "outputs": [],
   "source": []
  }
 ],
 "metadata": {
  "kernelspec": {
   "display_name": "Python [conda env:base] *",
   "language": "python",
   "name": "conda-base-py"
  },
  "language_info": {
   "codemirror_mode": {
    "name": "ipython",
    "version": 3
   },
   "file_extension": ".py",
   "mimetype": "text/x-python",
   "name": "python",
   "nbconvert_exporter": "python",
   "pygments_lexer": "ipython3",
   "version": "3.12.7"
  }
 },
 "nbformat": 4,
 "nbformat_minor": 5
}
