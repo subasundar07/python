{
 "cells": [
  {
   "cell_type": "code",
   "execution_count": 1,
   "id": "404766af-c78d-456f-97c5-c2d701ce2bbe",
   "metadata": {},
   "outputs": [
    {
     "name": "stdout",
     "output_type": "stream",
     "text": [
      "32\n"
     ]
    }
   ],
   "source": [
    "num1=15\n",
    "num2=17\n",
    "print(num1+num2)"
   ]
  },
  {
   "cell_type": "code",
   "execution_count": 2,
   "id": "2200050a-7e36-40d8-9fd5-c8090f66bd61",
   "metadata": {},
   "outputs": [
    {
     "name": "stdout",
     "output_type": "stream",
     "text": [
      "15\n"
     ]
    }
   ],
   "source": [
    "n1=5\n",
    "n2=10\n",
    "n3=n1+n2\n",
    "print(n3)"
   ]
  },
  {
   "cell_type": "code",
   "execution_count": 3,
   "id": "23512591-3ccd-476e-a77f-d924bea63123",
   "metadata": {},
   "outputs": [
    {
     "name": "stdout",
     "output_type": "stream",
     "text": [
      "15 -5\n"
     ]
    }
   ],
   "source": [
    "n1=5\n",
    "n2=10\n",
    "add=n1+n2\n",
    "sub=n1-n2\n",
    "print(add,sub)"
   ]
  },
  {
   "cell_type": "code",
   "execution_count": 17,
   "id": "76851f20-caf3-4f26-bf18-27fb9e2569a8",
   "metadata": {},
   "outputs": [],
   "source": [
    "firstName=\"suba\"  #-->No space between the variable name"
   ]
  },
  {
   "cell_type": "code",
   "execution_count": 19,
   "id": "bc4d5df7-5a55-4c92-ab83-d570b43ba8d6",
   "metadata": {},
   "outputs": [],
   "source": [
    "firstName=\"Suba\"\n",
    "\n"
   ]
  },
  {
   "cell_type": "code",
   "execution_count": 25,
   "id": "a58be6f7-23cf-470b-bb10-e0f4d3d4eea1",
   "metadata": {},
   "outputs": [],
   "source": [
    "Firstname=\"suba\"  #--->First Numbers Not Allowed In Variables\n"
   ]
  },
  {
   "cell_type": "code",
   "execution_count": 29,
   "id": "63cc6150-8ab6-4c65-ba61-81266eeafe12",
   "metadata": {},
   "outputs": [],
   "source": [
    "firstName=\"Suba\""
   ]
  },
  {
   "cell_type": "code",
   "execution_count": 31,
   "id": "cf19b17e-7896-4037-9b3a-665e88ca3311",
   "metadata": {},
   "outputs": [
    {
     "name": "stdout",
     "output_type": "stream",
     "text": [
      "Addition of Two Numbers\n",
      "The Number1 is: 5\n",
      "The Number2 is 10\n",
      "The Answer is 15\n"
     ]
    }
   ],
   "source": [
    "print(\"Addition of Two Numbers\")\n",
    "n1=5\n",
    "print(\"The Number1 is:\",n1)\n",
    "n2=10\n",
    "print(\"The Number2 is\",n2)\n",
    "n3=n1+n2\n",
    "print(\"The Answer is\",n3)"
   ]
  },
  {
   "cell_type": "code",
   "execution_count": 33,
   "id": "cd1b280c-0cb1-4597-834e-0b6dd28daaa6",
   "metadata": {},
   "outputs": [
    {
     "name": "stdin",
     "output_type": "stream",
     "text": [
      " 56\n"
     ]
    },
    {
     "name": "stdout",
     "output_type": "stream",
     "text": [
      "56\n"
     ]
    }
   ],
   "source": [
    "a=int(input())\n",
    "print(a)"
   ]
  },
  {
   "cell_type": "code",
   "execution_count": 35,
   "id": "4a0d0089-9b3b-4ed9-8ec6-d1f2113daeae",
   "metadata": {},
   "outputs": [
    {
     "name": "stdin",
     "output_type": "stream",
     "text": [
      "Enter the A:  53\n",
      "Enter The B:  63\n"
     ]
    },
    {
     "name": "stdout",
     "output_type": "stream",
     "text": [
      "Addition Of two Numbers Is: 116\n"
     ]
    }
   ],
   "source": [
    "a=int(input(\"Enter the A: \"))                  #If you get a input from the user ,if its number using int keyword:\n",
    "b=int(input(\"Enter The B: \"))\n",
    "print(\"Addition Of two Numbers Is:\",a+b)"
   ]
  },
  {
   "cell_type": "code",
   "execution_count": null,
   "id": "53e9de8b-8a9b-48c9-a375-7244d473bd0a",
   "metadata": {},
   "outputs": [],
   "source": []
  }
 ],
 "metadata": {
  "kernelspec": {
   "display_name": "Python [conda env:base] *",
   "language": "python",
   "name": "conda-base-py"
  },
  "language_info": {
   "codemirror_mode": {
    "name": "ipython",
    "version": 3
   },
   "file_extension": ".py",
   "mimetype": "text/x-python",
   "name": "python",
   "nbconvert_exporter": "python",
   "pygments_lexer": "ipython3",
   "version": "3.12.7"
  }
 },
 "nbformat": 4,
 "nbformat_minor": 5
}
